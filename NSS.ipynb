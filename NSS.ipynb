{
 "cells": [
  {
   "attachments": {},
   "cell_type": "markdown",
   "metadata": {},
   "source": [
    "Retreive the historic news data"
   ]
  },
  {
   "cell_type": "code",
   "execution_count": 1,
   "metadata": {},
   "outputs": [],
   "source": [
    "import numpy as np\n",
    "import pandas as pd\n",
    "import matplotlib.pyplot as plt"
   ]
  },
  {
   "cell_type": "code",
   "execution_count": 2,
   "metadata": {},
   "outputs": [],
   "source": [
    "import os\n",
    "\n",
    "# Set up the Alpaca API\n",
    "os.environ['APCA_API_BASE_URL'] = 'https://paper-api.alpaca.markets'\n",
    "os.environ['APCA_API_KEY_ID'] = 'PKBSV0834I61DKR0R5ZS'\n",
    "os.environ['APCA_API_SECRET_KEY'] = '5cOPW5UZ8ezN0ht4MYPVCb6N5cZ2oayg6v2HMCNk'"
   ]
  },
  {
   "cell_type": "code",
   "execution_count": 3,
   "metadata": {},
   "outputs": [
    {
     "ename": "ModuleNotFoundError",
     "evalue": "No module named 'alpaca_trade_api'",
     "output_type": "error",
     "traceback": [
      "\u001b[0;31m---------------------------------------------------------------------------\u001b[0m",
      "\u001b[0;31mModuleNotFoundError\u001b[0m                       Traceback (most recent call last)",
      "Cell \u001b[0;32mIn[3], line 1\u001b[0m\n\u001b[0;32m----> 1\u001b[0m \u001b[39mfrom\u001b[39;00m \u001b[39malpaca_trade_api\u001b[39;00m\u001b[39m.\u001b[39;00m\u001b[39mrest\u001b[39;00m \u001b[39mimport\u001b[39;00m REST, TimeFrame\n\u001b[1;32m      3\u001b[0m api \u001b[39m=\u001b[39m REST()\n",
      "\u001b[0;31mModuleNotFoundError\u001b[0m: No module named 'alpaca_trade_api'"
     ]
    }
   ],
   "source": [
    "from alpaca_trade_api.rest import REST, TimeFrame\n",
    "\n",
    "api = REST()"
   ]
  },
  {
   "cell_type": "code",
   "execution_count": null,
   "metadata": {},
   "outputs": [],
   "source": [
    "import requests\n",
    "\n",
    "df = api.get_news(\n",
    "    \"AAPL\",\n",
    "    start=pd.Timestamp(\"2022-12-31\", tz='America/New_York').isoformat(),\n",
    "    end=pd.Timestamp(\"2023-5-8\", tz='America/New_York').isoformat(),\n",
    ").df\n"
   ]
  }
 ],
 "metadata": {
  "kernelspec": {
   "display_name": "Python 3",
   "language": "python",
   "name": "python3"
  },
  "language_info": {
   "codemirror_mode": {
    "name": "ipython",
    "version": 3
   },
   "file_extension": ".py",
   "mimetype": "text/x-python",
   "name": "python",
   "nbconvert_exporter": "python",
   "pygments_lexer": "ipython3",
   "version": "3.10.4"
  },
  "orig_nbformat": 4
 },
 "nbformat": 4,
 "nbformat_minor": 2
}
